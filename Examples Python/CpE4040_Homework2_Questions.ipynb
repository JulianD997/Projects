{
 "cells": [
  {
   "cell_type": "markdown",
   "metadata": {},
   "source": [
    "<center> <h1>CpE 4040 Homework -2</h1> </center>"
   ]
  },
  {
   "cell_type": "markdown",
   "metadata": {},
   "source": [
    "1- Write a Python scripts which asks the user Name, School number and Date and prints them as follows:\n",
    "\n",
    "Name: Paul Smith <br />\n",
    "School No: 9001212378 <br />\n",
    "Date: 02/12/2020 <br />\n",
    "\n",
    "*Hint: Use \"input\" function to get user inputs.* \n",
    "Done"
   ]
  },
  {
   "cell_type": "markdown",
   "metadata": {},
   "source": [
    "2- Write a Python code which requests a number from the user and prints whether it is an odd or even number. \n",
    "Done\n"
   ]
  },
  {
   "cell_type": "markdown",
   "metadata": {},
   "source": [
    "3- Write a Python code which asks the user for integer and print whether it is divisible by 7 or not.\n",
    "DOne"
   ]
  },
  {
   "cell_type": "markdown",
   "metadata": {},
   "source": [
    "4- Write a Python program that accepts a sentence from the user and prints the number of only letters also excluding spaces.\n",
    "Done"
   ]
  },
  {
   "cell_type": "markdown",
   "metadata": {},
   "source": [
    "5- Ask the user for a string. Print the odd number index letters in the string with upper case and even ones with lower case letters.\n",
    "Done"
   ]
  },
  {
   "cell_type": "markdown",
   "metadata": {},
   "source": [
    "6- Ask the user for a number n which is then used to find the Fibonacci sequence up to n. Write a function named Fibonacci that calculates the Fibonacci sequence.\n",
    "Done"
   ]
  },
  {
   "cell_type": "markdown",
   "metadata": {},
   "source": [
    "7- Write a function to test whether entered number is an Armstrong number or not."
   ]
  },
  {
   "cell_type": "markdown",
   "metadata": {},
   "source": [
    "8- Write a Python class which has two methods get_String and print_String. get_String accepts a string from the user and print_String prints the string in upper case!"
   ]
  },
  {
   "cell_type": "markdown",
   "metadata": {},
   "source": [
    "9- Write a Python code to print a dictionary where the keys are numbers between 1 and 20 and the values are square of keys (use loop)."
   ]
  },
  {
   "cell_type": "markdown",
   "metadata": {},
   "source": [
    "10- Write a Python Program to sort alphabetically the words form a string provided by the user."
   ]
  }
 ],
 "metadata": {
  "kernelspec": {
   "display_name": "Python 3",
   "language": "python",
   "name": "python3"
  },
  "language_info": {
   "codemirror_mode": {
    "name": "ipython",
    "version": 3
   },
   "file_extension": ".py",
   "mimetype": "text/x-python",
   "name": "python",
   "nbconvert_exporter": "python",
   "pygments_lexer": "ipython3",
   "version": "3.7.4"
  }
 },
 "nbformat": 4,
 "nbformat_minor": 2
}
