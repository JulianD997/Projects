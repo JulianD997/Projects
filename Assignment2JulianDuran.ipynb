{
 "cells": [
  {
   "cell_type": "markdown",
   "metadata": {},
   "source": [
    "# Julian Duran Assignment 2"
   ]
  },
  {
   "cell_type": "markdown",
   "metadata": {},
   "source": [
    "1- Write a Python scripts which asks the user Name, School number and Date and prints them as follows:\n",
    "\n",
    "Name: Paul Smith <br />\n",
    "School No: 9001212378 <br />\n",
    "Date: 02/12/2020 <br />\n"
   ]
  },
  {
   "cell_type": "code",
   "execution_count": 1,
   "metadata": {},
   "outputs": [
    {
     "name": "stdout",
     "output_type": "stream",
     "text": [
      "What is your name?\n",
      "Paul Smith\n",
      "What is your school number?\n",
      "9001212378\n",
      "What is the date?\n",
      "02/12/2020\n",
      "\n",
      "Name: Paul Smith\n",
      "School No.: 9001212378\n",
      "Date: 02/12/2020\n"
     ]
    }
   ],
   "source": [
    "#Question 1\n",
    "print(\"What is your name?\")\n",
    "name = input()\n",
    "print(\"What is your school number?\")\n",
    "schoolID = input()\n",
    "print(\"What is the date?\")\n",
    "date = input()\n",
    "print(\"\")\n",
    "print(\"Name: \" + str(name))\n",
    "print(\"School No.: \"+str(schoolID))\n",
    "print(\"Date: \"+str(date))"
   ]
  },
  {
   "cell_type": "markdown",
   "metadata": {},
   "source": [
    "2- Write a Python code which requests a number from the user and prints whether it is an odd or even number. "
   ]
  },
  {
   "cell_type": "code",
   "execution_count": 2,
   "metadata": {},
   "outputs": [
    {
     "name": "stdout",
     "output_type": "stream",
     "text": [
      "Please enter a number\n",
      "51\n",
      "The number is odd!\n"
     ]
    }
   ],
   "source": [
    "#Question 2\n",
    "print(\"Please enter a number\")\n",
    "num = input()\n",
    "remain = int(num)%2\n",
    "if (remain == 0):\n",
    "    print(\"The number is even!\")\n",
    "else:\n",
    "    print(\"The number is odd!\")"
   ]
  },
  {
   "cell_type": "markdown",
   "metadata": {},
   "source": [
    "3- Write a Python code which asks the user for integer and print whether it is divisible by 7 or not."
   ]
  },
  {
   "cell_type": "code",
   "execution_count": 3,
   "metadata": {},
   "outputs": [
    {
     "name": "stdout",
     "output_type": "stream",
     "text": [
      "Please enter a number\n",
      "13\n",
      "The number is not divisible by 7!\n"
     ]
    }
   ],
   "source": [
    "#Question 3\n",
    "print(\"Please enter a number\")\n",
    "num = input()\n",
    "remain = int(num)%7\n",
    "if (remain == 0):\n",
    "    print(\"The number is divisible by 7!\")\n",
    "else:\n",
    "    print(\"The number is not divisible by 7!\")"
   ]
  },
  {
   "cell_type": "markdown",
   "metadata": {},
   "source": [
    "4- Write a Python program that accepts a sentence from the user and prints the number of only letters also excluding spaces."
   ]
  },
  {
   "cell_type": "code",
   "execution_count": 44,
   "metadata": {},
   "outputs": [
    {
     "name": "stdout",
     "output_type": "stream",
     "text": [
      "Please enter a sentence: \n",
      "python1 is fun2\n",
      "Letter count is 11\n"
     ]
    }
   ],
   "source": [
    "#Question 4\n",
    "print(\"Please enter a sentence: \")\n",
    "x = input()\n",
    "count = 0\n",
    "for i in x:\n",
    "    if (i == \" \"):\n",
    "        pass\n",
    "    elif i.isdigit():\n",
    "        pass\n",
    "    else:\n",
    "        count += 1\n",
    "print(\"Letter count is \" + str(count))"
   ]
  },
  {
   "cell_type": "markdown",
   "metadata": {},
   "source": [
    "5- Ask the user for a string. Print the odd number index letters in the string with upper case and even ones with lower case letters."
   ]
  },
  {
   "cell_type": "code",
   "execution_count": 46,
   "metadata": {},
   "outputs": [
    {
     "name": "stdout",
     "output_type": "stream",
     "text": [
      "Please enter a sentence: \n",
      "hello world python\n",
      "HeLlO wOrLd PyThOn\n"
     ]
    }
   ],
   "source": [
    "#Question 5\n",
    "print(\"Please enter a sentence: \")\n",
    "x = input()\n",
    "out = \"\"\n",
    "check = True\n",
    "for i in x:\n",
    "    if (check):\n",
    "        out += i.upper()\n",
    "    else:\n",
    "        out += i.lower()\n",
    "    if i != ' ':\n",
    "        check = not check \n",
    "print(out)\n",
    "        "
   ]
  },
  {
   "cell_type": "markdown",
   "metadata": {},
   "source": [
    "6- Ask the user for a number n which is then used to find the Fibonacci sequence up to n. Write a function named Fibonacci that calculates the Fibonacci sequence."
   ]
  },
  {
   "cell_type": "code",
   "execution_count": 43,
   "metadata": {},
   "outputs": [
    {
     "name": "stdout",
     "output_type": "stream",
     "text": [
      "Please the enter the term you would like to go up to: \n",
      "9\n",
      "The value from the fibonacci sequence with the given term 9 is 21\n"
     ]
    }
   ],
   "source": [
    "#Question6\n",
    "print(\"Please the enter the term you would like to go up to: \")\n",
    "term = int(input())\n",
    "\n",
    "count = 0\n",
    "term0 = 0\n",
    "term1 = 1\n",
    "if (term <= 0):\n",
    "    print(\"Enter a positive number!\")\n",
    "elif(term == 1):\n",
    "    print(term0)\n",
    "elif(term > 1):\n",
    "    while count < int(term):\n",
    "        value = term0\n",
    "        current = term0 + term1\n",
    "        term0 = term1\n",
    "        term1 = current\n",
    "        count += 1\n",
    "        \n",
    "print(\"The value from the fibonacci sequence with the given term \"+ str(term) + \" is \" + str(value))\n",
    "    "
   ]
  },
  {
   "cell_type": "markdown",
   "metadata": {},
   "source": [
    "7- Write a function to test whether entered number is an Armstrong number or not."
   ]
  },
  {
   "cell_type": "code",
   "execution_count": 32,
   "metadata": {},
   "outputs": [
    {
     "name": "stdout",
     "output_type": "stream",
     "text": [
      "Please enter a 3-digit number: \n",
      "153\n",
      "1\n",
      "126\n",
      "153\n",
      "It is an Armstrong Number!\n"
     ]
    }
   ],
   "source": [
    "#Question7\n",
    "print(\"Please enter a 3-digit number: \")\n",
    "num = input()\n",
    "total = 0\n",
    "for i in num:\n",
    "    total += (int(i)**3)\n",
    "    print(total)\n",
    "if (str(total) == num):\n",
    "    print(\"It is an Armstrong Number!\")\n",
    "else:\n",
    "    print(\"It is not an Armstorng Number!\")"
   ]
  },
  {
   "cell_type": "markdown",
   "metadata": {},
   "source": [
    "8- Write a Python class which has two methods get_String and print_String. get_String accepts a string from the user and print_String prints the string in upper case!"
   ]
  },
  {
   "cell_type": "code",
   "execution_count": 42,
   "metadata": {},
   "outputs": [
    {
     "name": "stdout",
     "output_type": "stream",
     "text": [
      "Please input a string: \n",
      "Good Morning America\n",
      "GOOD MORNING AMERICA\n"
     ]
    }
   ],
   "source": [
    "#Question8\n",
    "class string:\n",
    "    def get_string():\n",
    "        print(\"Please input a string: \")\n",
    "        response = input()\n",
    "        return response\n",
    "    \n",
    "    def get_print():\n",
    "        x = string.get_string()\n",
    "        print(x.upper())\n",
    "\n",
    "string.get_print()"
   ]
  },
  {
   "cell_type": "markdown",
   "metadata": {},
   "source": [
    "9- Write a Python code to print a dictionary where the keys are numbers between 1 and 20 and the values are square of keys (use loop)."
   ]
  },
  {
   "cell_type": "code",
   "execution_count": 55,
   "metadata": {},
   "outputs": [
    {
     "name": "stdout",
     "output_type": "stream",
     "text": [
      "{1: 1, 2: 4, 3: 9, 4: 16, 5: 25, 6: 36, 7: 49, 8: 64, 9: 81, 10: 100, 11: 121, 12: 144, 13: 169, 14: 196, 15: 225, 16: 256, 17: 289, 18: 324, 19: 361, 20: 400}\n"
     ]
    }
   ],
   "source": [
    "#Question9\n",
    "x = range(1,21)\n",
    "thisdict = {}\n",
    "for i in x:\n",
    "    for d in str(i):\n",
    "        d = i**2\n",
    "        thisdict[i] = d\n",
    "\n",
    "print(thisdict)        \n"
   ]
  },
  {
   "cell_type": "markdown",
   "metadata": {},
   "source": [
    "10- Write a Python Program to sort alphabetically the words form a string provided by the user."
   ]
  },
  {
   "cell_type": "code",
   "execution_count": 7,
   "metadata": {},
   "outputs": [
    {
     "name": "stdout",
     "output_type": "stream",
     "text": [
      "Please give a list of words to sort alphabetically: \n",
      "This is a test to see if it sorts right\n",
      "['a', 'if', 'is', 'it', 'right', 'see', 'sorts', 'test', 'this', 'to']\n"
     ]
    }
   ],
   "source": [
    "#Question10\n",
    "print(\"Please give a list of words to sort alphabetically: \")\n",
    "response = input()\n",
    "response = response.lower()\n",
    "response = response.split()\n",
    "response.sort()\n",
    "print(response)\n"
   ]
  },
  {
   "cell_type": "code",
   "execution_count": null,
   "metadata": {},
   "outputs": [],
   "source": []
  }
 ],
 "metadata": {
  "kernelspec": {
   "display_name": "Python 3",
   "language": "python",
   "name": "python3"
  },
  "language_info": {
   "codemirror_mode": {
    "name": "ipython",
    "version": 3
   },
   "file_extension": ".py",
   "mimetype": "text/x-python",
   "name": "python",
   "nbconvert_exporter": "python",
   "pygments_lexer": "ipython3",
   "version": "3.7.4"
  }
 },
 "nbformat": 4,
 "nbformat_minor": 2
}
