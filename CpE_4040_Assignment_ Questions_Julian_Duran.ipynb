{
 "cells": [
  {
   "cell_type": "markdown",
   "metadata": {},
   "source": [
    "<center> <h1>Example Problems CPE 4040</h1> </center>"
   ]
  },
  {
   "cell_type": "markdown",
   "metadata": {},
   "source": [
    "Julian Duran                                                                        March 3, 2020"
   ]
  },
  {
   "cell_type": "markdown",
   "metadata": {},
   "source": [
    "*Solve 6 out of 7 questions in the cells provided under each problem. Save your notebook addin your first name and last name at the end of the filename and submit.*"
   ]
  },
  {
   "cell_type": "markdown",
   "metadata": {},
   "source": [
    "1- Write a Python code which asks two numbers from the user, calculates the product and print the result. Create a function to calculate the product and return the result value.<br>\n",
    "i.e. <br>\n",
    "First Number:12 <br>\n",
    "Second Number:23 <br>\n",
    "10 * 23 = 230"
   ]
  },
  {
   "cell_type": "code",
   "execution_count": 7,
   "metadata": {},
   "outputs": [
    {
     "name": "stdout",
     "output_type": "stream",
     "text": [
      "Please enter a first number: 12\n",
      "Please enter a second number: 23\n",
      "\n",
      "The product of your numbers is:  276\n"
     ]
    }
   ],
   "source": [
    "x = input(\"Please enter a first number: \")\n",
    "y = input(\"Please enter a second number: \")\n",
    "\n",
    "z = int(x)*int(y)\n",
    "print(\"\\nThe product of your numbers is: \", z)"
   ]
  },
  {
   "cell_type": "markdown",
   "metadata": {},
   "source": [
    "2- Create 20 random integers in an array which has the numbers between 1 and 100 (includes both 1 and 100). Pick and sort first the even numbers then the odd numbers in ascending order and print the final array. (i.e. [1 3 51 77 4 12 44 82])"
   ]
  },
  {
   "cell_type": "code",
   "execution_count": 70,
   "metadata": {},
   "outputs": [
    {
     "name": "stdout",
     "output_type": "stream",
     "text": [
      "[29 32 90 23 56 71 93 13 30 96 87 85 51 22 53 33 70 57 73 24]\n",
      "\n",
      "The array with even values in ascending order is:  [22, 24, 30, 32, 56, 70, 90, 96]\n",
      "The array with odd values in ascending order is:  [13, 23, 29, 33, 51, 53, 57, 71, 73, 85, 87, 93]\n"
     ]
    }
   ],
   "source": [
    "import numpy as np\n",
    "\n",
    "arr = np.random.randint(1,100,20)\n",
    "print(arr)\n",
    "\n",
    "arreven = []\n",
    "arrodd = []\n",
    "for i in arr:\n",
    "    remain = int(i)%2\n",
    "    if (remain == 0):\n",
    "        arreven.append(i)\n",
    "    elif (remain == 1):\n",
    "        arrodd.append(i)\n",
    "arreven.sort()        \n",
    "print(\"\\nThe array with even values in ascending order is: \",arreven)\n",
    "arrodd.sort()\n",
    "print(\"The array with odd values in ascending order is: \", arrodd)\n"
   ]
  },
  {
   "cell_type": "markdown",
   "metadata": {},
   "source": [
    "3- Write a simple number guessing game Python program. In this code, generate a random integer between 1-10 (both included) and ask the user to guess the number in three attempts. \n",
    "Print appropriate responses to the user such as \"You won!\" or \"You failed\""
   ]
  },
  {
   "cell_type": "code",
   "execution_count": 4,
   "metadata": {},
   "outputs": [
    {
     "name": "stdout",
     "output_type": "stream",
     "text": [
      "81\n",
      "Guess what the randomly generated number is: 5\n",
      "You failed! Try again! Tries left:  2\n",
      "Guess what the randomly generated number is: 3\n",
      "You failed! Try again! Tries left:  1\n",
      "Guess what the randomly generated number is: 2\n",
      "You failed!\n"
     ]
    }
   ],
   "source": [
    "import random\n",
    "\n",
    "\n",
    "number = random.randint(0,100)\n",
    "print(number)\n",
    "count = 0\n",
    "while count < 3:\n",
    "    Guess = input(\"Guess what the randomly generated number is: \")\n",
    "    if (int(Guess) == number):\n",
    "        print(\"You Won!\")\n",
    "        break\n",
    "    else: \n",
    "        if (count == 2):\n",
    "            print(\"You failed!\")\n",
    "        else:\n",
    "            print(\"You failed! Try again!\")\n",
    "    count += 1\n",
    "            \n"
   ]
  },
  {
   "cell_type": "markdown",
   "metadata": {},
   "source": [
    "4- Write a Python code that asks a string from the user and prints only the lower case letters in that string."
   ]
  },
  {
   "cell_type": "code",
   "execution_count": 123,
   "metadata": {},
   "outputs": [
    {
     "name": "stdout",
     "output_type": "stream",
     "text": [
      "Please enter a string: Hello PyThon WoRld\n",
      "ello yhon old\n"
     ]
    }
   ],
   "source": [
    "response = input(\"Please enter a string: \")\n",
    "out = \"\"\n",
    "for i in response:\n",
    "    if (i == i.lower()):\n",
    "        out += i\n",
    "        \n",
    "print(out)"
   ]
  },
  {
   "cell_type": "markdown",
   "metadata": {},
   "source": [
    "5- Write a function which takes a string as an argument and return true if the string is symmetrical (i.e. \"level\") and return false otherwise. "
   ]
  },
  {
   "cell_type": "code",
   "execution_count": null,
   "metadata": {},
   "outputs": [],
   "source": []
  },
  {
   "cell_type": "markdown",
   "metadata": {},
   "source": [
    "6- Create a 4x7 2D array with random floating point positive numbers. Subtract the mean value of each row from the corresponding row. "
   ]
  },
  {
   "cell_type": "code",
   "execution_count": 122,
   "metadata": {},
   "outputs": [
    {
     "name": "stdout",
     "output_type": "stream",
     "text": [
      "Array generated with random values: \n",
      " [[0.73031147 0.35306701 0.7951654  0.1219191  0.40063768 0.00732095\n",
      "  0.03698566]\n",
      " [0.96942637 0.51916191 0.9999488  0.97676862 0.47549137 0.24329314\n",
      "  0.82354678]\n",
      " [0.96772427 0.53195824 0.47360203 0.15826956 0.21132248 0.81228241\n",
      "  0.15549142]\n",
      " [0.03144801 0.9926796  0.70375832 0.62597282 0.92847637 0.11239569\n",
      "  0.53578751]]\n",
      "\n",
      "The means of each row of array a1 in an array of shap 4X1: \n",
      " [[0.3493439 ]\n",
      " [0.71537671]\n",
      " [0.47295006]\n",
      " [0.56150262]]\n",
      "\n",
      "When subtracting the means of each row with the corresponding row you get: \n",
      " [[ 0.38096758  0.00372312  0.4458215  -0.2274248   0.05129378 -0.34202294\n",
      "  -0.31235824]\n",
      " [ 0.25404965 -0.1962148   0.28457209  0.26139191 -0.23988534 -0.47208357\n",
      "   0.10817006]\n",
      " [ 0.49477421  0.05900818  0.00065197 -0.3146805  -0.26162758  0.33933235\n",
      "  -0.31745864]\n",
      " [-0.53005461  0.43117698  0.1422557   0.0644702   0.36697375 -0.44910693\n",
      "  -0.02571511]]\n"
     ]
    }
   ],
   "source": [
    "import numpy as np\n",
    "\n",
    "a1 = np.random.rand(4,7)\n",
    "print (\"Array generated with random values: \\n\", a1)\n",
    "b = a1.mean(axis = 1)\n",
    "b = b.reshape(4,1)\n",
    "print(\"\\nThe means of each row of array a1 in an array of shap 4X1: \\n\", b)\n",
    "print(\"\\nWhen subtracting the means of each row with the corresponding row you get: \\n\", np.subtract(a1,b))"
   ]
  },
  {
   "cell_type": "markdown",
   "metadata": {},
   "source": [
    "7- Create an array with 10 random integers. Write a Python script which replaces the minimum number with the maximum number in the array. "
   ]
  },
  {
   "cell_type": "code",
   "execution_count": 35,
   "metadata": {},
   "outputs": [
    {
     "name": "stdout",
     "output_type": "stream",
     "text": [
      "[74 19 71 50 12 54 88 71 22 13]\n",
      "\n",
      "The max value in the array is:  88\n",
      "The min value in the array is:  12\n",
      "\n",
      "When replacing the largest value in the array with the smallest, the resulting array is:\n",
      "[74 19 71 50 12 54 12 71 22 13]\n"
     ]
    }
   ],
   "source": [
    "import numpy as np\n",
    "\n",
    "arr = np.random.randint(0,100,10)\n",
    "print(arr)\n",
    "print(\"\\nThe max value in the array is: \", arr.max())\n",
    "print(\"The min value in the array is: \", arr.min())\n",
    "\n",
    "arr[arr.argmax()] = min(arr)\n",
    "print(\"\\nWhen replacing the largest value in the array with the smallest, the resulting array is:\")\n",
    "print(arr)"
   ]
  }
 ],
 "metadata": {
  "kernelspec": {
   "display_name": "Python 3",
   "language": "python",
   "name": "python3"
  },
  "language_info": {
   "codemirror_mode": {
    "name": "ipython",
    "version": 3
   },
   "file_extension": ".py",
   "mimetype": "text/x-python",
   "name": "python",
   "nbconvert_exporter": "python",
   "pygments_lexer": "ipython3",
   "version": "3.7.4"
  }
 },
 "nbformat": 4,
 "nbformat_minor": 2
}
